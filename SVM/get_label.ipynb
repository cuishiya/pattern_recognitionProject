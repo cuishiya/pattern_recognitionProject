{
 "cells": [
  {
   "cell_type": "code",
   "execution_count": 1,
   "metadata": {},
   "outputs": [],
   "source": [
    "import os\n",
    "import numpy as np"
   ]
  },
  {
   "cell_type": "code",
   "execution_count": 2,
   "metadata": {},
   "outputs": [],
   "source": [
    "# load path\n",
    "Path_train_target = \"origindata\\\\faceDR\"\n",
    "Path_test_target  = \"origindata\\\\faceDS\""
   ]
  },
  {
   "cell_type": "code",
   "execution_count": 3,
   "metadata": {},
   "outputs": [],
   "source": [
    "# read the label\n",
    "with open(Path_train_target , encoding='utf-8') as rawdata_train_target:\n",
    "    list_train_target = [[buf.strip(')') for buf in line.strip().split(' (_')]for line in rawdata_train_target.readlines()]\n",
    "\n",
    "with open(Path_test_target , encoding='utf-8') as rawdata_test_target:\n",
    "    list_test_target = [[buf.strip(')') for buf in line.strip().split(' (_')]for line in rawdata_test_target.readlines()]"
   ]
  },
  {
   "cell_type": "code",
   "execution_count": 7,
   "metadata": {
    "scrolled": true
   },
   "outputs": [
    {
     "name": "stdout",
     "output_type": "stream",
     "text": [
      "[['1223', 'sex  male', 'age  child', 'race white', 'face smiling', \"prop '(\"]]\n",
      "[['1224', 'sex  male', 'age  child', 'race white', 'face serious', \"prop '(\"]]\n",
      "[['1225', 'sex  male', 'age  child', 'race white', 'face smiling', \"prop '(\"]]\n",
      "[['1226', 'sex  male', 'age  child', 'race white', 'face smiling', \"prop '(\"]]\n",
      "[['1227', 'sex  male', 'age  child', 'race white', 'face serious', \"prop '(\"]]\n",
      "[['1229', 'sex  male', 'age  adult', 'race white', 'face serious', \"prop '(\"]]\n",
      "[['1230', 'sex  male', 'age  child', 'race white', 'face serious', \"prop '(\"]]\n",
      "[['1231', 'sex  male', 'age  child', 'race white', 'face serious', \"prop '(\"]]\n",
      "[['1233', 'sex  male', 'age  child', 'race white', 'face serious', \"prop '(\"]]\n",
      "[['1234', 'sex  male', 'age  child', 'race white', 'face serious', \"prop '(\"]]\n",
      "1223\n",
      "[['3223', 'sex  female', 'age  senior', 'race black', 'face smiling', \"prop '(hat \"]]\n",
      "[['3224', 'sex  female', 'age  adult', 'race black', 'face smiling', \"prop '(\"]]\n",
      "[['3225', 'sex  male', 'age  senior', 'race white', 'face smiling', \"prop '(\"]]\n",
      "[['3226', 'sex  male', 'age  senior', 'race white', 'face serious', \"prop '(\"]]\n",
      "[['3227', 'sex  male', 'age  senior', 'race white', 'face serious', \"prop '(\"]]\n",
      "[['3228', 'sex  male', 'age  senior', 'race white', 'face serious', \"prop '(\"]]\n",
      "[['3229', 'sex  male', 'age  senior', 'race white', 'face smiling', \"prop '(\"]]\n",
      "[['3230', 'sex  male', 'age  senior', 'race white', 'face smiling', \"prop '(\"]]\n",
      "[['3231', 'sex  male', 'age  senior', 'race white', 'face serious', \"prop '(hat \"]]\n",
      "[['3232', 'sex  male', 'age  senior', 'race white', 'face serious', \"prop '(\"]]\n"
     ]
    }
   ],
   "source": [
    "# Test print the 1-10th labels\n",
    "for idt in range(10):\n",
    "    print(list_train_target[idt:idt+1])\n",
    "\n",
    "print(list_train_target[0][0])\n",
    "\n",
    "# Test print first ten labels\n",
    "for idt in range(10):\n",
    "    print(list_test_target[idt:idt+1])"
   ]
  },
  {
   "cell_type": "code",
   "execution_count": 10,
   "metadata": {
    "scrolled": true
   },
   "outputs": [
    {
     "name": "stdout",
     "output_type": "stream",
     "text": [
      "[['1223', 'smiling'], ['1224', 'serious'], ['1225', 'smiling'], ['1226', 'smiling'], ['1227', 'serious'], ['1229', 'serious'], ['1230', 'serious'], ['1231', 'serious'], ['1233', 'serious'], ['1234', 'serious']]\n",
      "[['3223', 'smiling'], ['3224', 'smiling'], ['3225', 'smiling'], ['3226', 'serious'], ['3227', 'serious'], ['3228', 'serious'], ['3229', 'smiling'], ['3230', 'smiling'], ['3231', 'serious'], ['3232', 'serious']]\n"
     ]
    }
   ],
   "source": [
    "data_train = []\n",
    "data_test = []\n",
    "\n",
    "for line in list_train_target:\n",
    "    if len(line) == 6:\n",
    "        sex = line[4].strip().split(' ')[1]\n",
    "        temp = [line[0], sex]\n",
    "        data_train.append(temp)\n",
    "\n",
    "for line in list_test_target:\n",
    "    if len(line) == 6:\n",
    "        sex = line[4].strip().split(' ')[1]\n",
    "        temp = [line[0], sex]\n",
    "        data_test.append(temp)\n",
    "        \n",
    "print(data_train[:10])\n",
    "print(data_test[:10])"
   ]
  },
  {
   "cell_type": "code",
   "execution_count": 18,
   "metadata": {},
   "outputs": [],
   "source": [
    "# 将数据保存为npy文件，方便读取\n",
    "np.save('./data_label/train_label.npy', data_train)\n",
    "np.save('./data_label/test_label.npy', data_test)"
   ]
  },
  {
   "cell_type": "code",
   "execution_count": 19,
   "metadata": {},
   "outputs": [
    {
     "name": "stdout",
     "output_type": "stream",
     "text": [
      "type : <class 'numpy.ndarray'>\n",
      "shape : (1997, 2)\n",
      "train_label :\n",
      "type : <class 'numpy.ndarray'>\n",
      "shape : (1996, 2)\n",
      "test_label :\n",
      "[['3223' 'smiling']\n",
      " ['3224' 'smiling']\n",
      " ['3225' 'smiling']\n",
      " ...\n",
      " ['5220' 'serious']\n",
      " ['5221' 'smiling']\n",
      " ['5222' 'smiling']]\n"
     ]
    }
   ],
   "source": [
    "# 测试加载数据集，并打印\n",
    "train_label = np.load('./data_label/train_label.npy')\n",
    "test_label = np.load('./data_label/test_label.npy')\n",
    "\n",
    "print('type :', type(train_label))\n",
    "print('shape :', train_label.shape)\n",
    "print('train_label :')\n",
    "\n",
    "print('type :', type(test_label))\n",
    "print('shape :', test_label.shape)\n",
    "print('test_label :')\n",
    "print(test_label)"
   ]
  },
  {
   "cell_type": "code",
   "execution_count": 20,
   "metadata": {},
   "outputs": [
    {
     "name": "stdout",
     "output_type": "stream",
     "text": [
      "{'smiling': 1043, 'serious': 917, 'funny': 37}\n",
      "{'smiling': 836, 'serious': 1097, 'funny': 63}\n"
     ]
    }
   ],
   "source": [
    "#  查看每种性别的数量\n",
    "\n",
    "facedr_cnt = {}\n",
    "faceds_cnt = {}\n",
    "\n",
    "for value in data_train:\n",
    "    facedr_cnt[value[1]] = facedr_cnt.get(value[1], 0) + 1\n",
    "        \n",
    "for value in data_test:\n",
    "    faceds_cnt[value[1]] = faceds_cnt.get(value[1], 0) + 1\n",
    "        \n",
    "print(facedr_cnt)\n",
    "print(faceds_cnt)"
   ]
  },
  {
   "cell_type": "code",
   "execution_count": null,
   "metadata": {},
   "outputs": [],
   "source": []
  }
 ],
 "metadata": {
  "kernelspec": {
   "display_name": "Python 3 (ipykernel)",
   "language": "python",
   "name": "python3"
  },
  "language_info": {
   "codemirror_mode": {
    "name": "ipython",
    "version": 3
   },
   "file_extension": ".py",
   "mimetype": "text/x-python",
   "name": "python",
   "nbconvert_exporter": "python",
   "pygments_lexer": "ipython3",
   "version": "3.9.13"
  }
 },
 "nbformat": 4,
 "nbformat_minor": 2
}
